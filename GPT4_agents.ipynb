{
 "cells": [
  {
   "cell_type": "code",
   "execution_count": null,
   "id": "38baa403fbc9a2b7",
   "metadata": {},
   "outputs": [],
   "source": [
    "study = \"\" # study number"
   ]
  },
  {
   "cell_type": "code",
   "execution_count": null,
   "id": "initial_id",
   "metadata": {
    "collapsed": true
   },
   "outputs": [],
   "source": [
    "docs_path = f'https://raw.githubusercontent.com/jwang-580/CIBMTR_data/main/data_files/{study}.csv'\n",
    "assistant_id = {\"CK1701\" :\"asst_ona6chSRPjNYceArRBNY6G9p\",\n",
    "                \"CK1803\" :\"asst_ipMSAyHnETUvSuDZEtOGngTr\",\n",
    "                \"CK1901\" :\"asst_nCeGmhW0GEUge9x9Gs94G0Eu\",\n",
    "                \"CK2001\" :\"asst_GG6wo0wb6yn7U1uPQStVHaHs\",\n",
    "                \"DS1302\" :\"asst_2DGCAh0gBT8j9bTiaEiufUqQ\",\n",
    "                \"GV1703\" :\"asst_sQUkJP7MpHRHlLh0rP4yRku3\",\n",
    "                \"GV1801\" :\"asst_XwiopKVb2dtDXQq8593lcFCY\",\n",
    "                \"HS1802\" :\"asst_PFjdQKeNmbCRcO11dujKpHev\",\n",
    "                \"IB2001\" :\"asst_wTr2f1WOxlAHJCA0bIqVgMZD\",\n",
    "                \"IB2004\" :\"asst_RTa40SviBzNKaUGznbK3Eu0B\",\n",
    "                \"IB1904\" :\"asst_FW6VOKC3DWAuiQ59FgWkeOUS\",\n",
    "                \"IN1801\" :\"asst_x0mP7j95EIzDUQYc6lZ8nxh2\",\n",
    "                \"LK1901\" :\"asst_IsEaCFYlGKmfXRXuoevNmNHx\",\n",
    "                \"PC2001\" :\"asst_UCjjAlYzjgjLqTT6Y1IgYt3L\",\n",
    "                \"RT1803\" :\"asst_r8LJ0GHGXPLto4eiS81TWjlz\",\n",
    "                \"LY1801\" :\"asst_Jf1JpmkmkdKfFTddn3710PAQ\",\n",
    "                \"LK1903\" :\"asst_FcPKhZ61R5dFeI3VwdDuQUQ7\",\n",
    "                \"RT1801\" :\"asst_fLBddfM4lbupUAZaNz1howFK\",\n",
    "                \"HS1502\" :\"asst_EGNxycVLVvIHMFnVPHWtNJ0o\",\n",
    "                \"IN1701\" :\"asst_5ZvDtsSOFBPd81amRceTySQx\",\n",
    "                #\"DS1302\" :\"asst_GZoXxTB42zU2ylrzKD84x36K\",\n",
    "                \"IN1301\" :\"asst_ZuBp9bc1VNPQKJT7lrHL7CwJ\",\n",
    "\n",
    "                }"
   ]
  },
  {
   "cell_type": "code",
   "execution_count": null,
   "id": "1226bb82224fb640",
   "metadata": {},
   "outputs": [],
   "source": [
    "study_prompts = {\n",
    "    \"CK1701\":f\"for patients with myelofibrosis undergoing alloHCT, identify all independent factors that are significantly associated with OS using multivariable analysis, and identify their HR. \",\n",
    "    \"CK1803\":f\"for patients undergoing alloHCT, show and compare the 5-year relapse-free survival for those who get transplant from a MSD  versus a MUD. \",\n",
    "    \"CK1901\":f\"compare OS according to different conditioning regimen (MAC vs RIC/NMA) in pts undergoing transplant, adjusting for age and KPS. \",\n",
    "    \"CK2001\":f\"compare OS based on different RIC regimens in allo transplant, and identify 2-year OS for each groups. \",\n",
    "    \"DS1302\":f\"explore different ABO mismatch status ( minor mismatch vs match, major mismatch vs match) on the incidence primary graft failure (odds ratio), adjusts for graft type and disease status at time of HCT. \",\n",
    "    \"GV1703\":f\"for patients who developed grade II-IV acute GVHD, compare non-relpase mortality (NRM) for patients who received haplo PTCy vs MUD standard prophylaxis. \",\n",
    "    \"GV1801\":f\"calculate the 10-year cumulative incidence rates of late effects in patients with and without chronic GvHD, respectively. \",\n",
    "    \"HS1802\":f\"explore the effects of neighborhood poverty level on overall survival after allo HCT, adjusting for factors including age at HCT, race, acute GVHD, chronic GVHD, conditioning regimen intensity, donor type, Disease Risk Index, Comorbidity Index, insurance type, and rural/urban residence. Use multivariable cox regression. \",\n",
    "    \"IB2001\":f\"compare OS among different PBM (peptide binding motifs) match status: PBM-mismatch vs full match and PBM-match vs full match. Adjust for factors including donor age, HCT-CI, Time from diagnosis to HCT, and year of transplant. \",\n",
    "    \"IB2004\":f\"n this dataset of  in pts with lymphoma undergoing HCT, compare estimated 2-year OS for different donor group (haplo vs MUD). \",\n",
    "    \"IB1904\":f\"determine if the presence of HLA class I strong binders (across all alleles) to NPM1 would affect OS after alloHCT. Use multivariable analysis, and adjust covariates including ATG use, FLT3-ITD mutation, donor age, disease status, donor type, HCT-CI score, and recipient age. \",\n",
    "    \"IN1801\":f\"determine the cumulative incidence of bacterial infection within the first 180 days after alloHCT, for patients receiving haploidentical transplant with Cy, HLA-identical sibling with  Cy, and HLA-identical sibs without Cy. \",\n",
    "    \"LK1901\":f\"in this dataset of patients with DBPDCN undergoing alloHCT, determine the estimated 5-year OS. \",\n",
    "    \"PC2001\":f\"in this dataset of patients undergoing autograft for CNS tumors, compare HR of PFS for those who received CD34+ cell count more than 3.6x10^6/kg vs those who received less than 3.6x10^6/kg. \",\n",
    "    \"RT1803\":\"determine the 1-year incidence of non-infectious pulmonary toxicity after alloHCT. \",\n",
    "    \"LY1801\":\"in this dataset of patients with DLBCL undergoing ASCT, determine the estimated 5-year OS. \",\n",
    "    \"LK1903\":\"for pts undergoing alloHCT, compare OS based on total cycles of induction (1 cycle vs 2 cycles, 1 cycle vs 3+ cycles). Use multivariable analysis, adjusting for age, HCT-CI, conditioning regimen, clinical onset of AML, and cytogenetic risk. \",\n",
    "    \"RT1801\":\"identify multivariable HR of treatment related mortality, for components of the HCT-CI score, which include arrhythmia, cardiac disease, inflammatory bowel disease, diabetes, psychiatric disease, cerebrovascular disease, infection (bacterial or invasive fungal infection), obesity (BMI>35 or BMI>95th percentile), underwent (BMI<18 or BMI<95% percentile), moderate/severe hepatic disease, moderate pulmonary disease, severe pulmonary disease, peptic ulcer disease, rheumatological disease, moderate/severe renal disease, prior solid tumor, and heart valve disease. \",\n",
    "    \"HS1502\":\"for patients with malignant disease, explore the HR of OS according to different neighborhood-poverty (high vs low), adjusting for factors including insurance type, race, Karnofsky performance score, disease type, disease status, donor type, and recipient CMV status. \",\n",
    "    \"IN1701\":\"Return the cumulative incidence of CMV infection within the first 180 days after transplant for patients receiving haploidentical donor, match related sibling donor with PTCy, and match related sibling donor without PTCy. \",    \n",
    "}\n",
    "\n",
    "prompt_suffix = f\"The data retriever owns the data dictionary. Data file can be accessed: {docs_path}.\"\n",
    "\n",
    "study_prompt = study_prompts[study] + prompt_suffix"
   ]
  },
  {
   "cell_type": "markdown",
   "id": "9e51e9b1",
   "metadata": {},
   "source": [
    "Test in real-world scenarios"
   ]
  },
  {
   "cell_type": "code",
   "execution_count": null,
   "id": "8a91ef39",
   "metadata": {},
   "outputs": [],
   "source": [
    "test_prompt = {\n",
    "    \"DS1302\":f\"For patients with high-risk AML (not transplanted at CR1), compare overall survival between patients who received a young MUD donor (donor age <36) and old matched related donor (use surrogate patient age > 55) \",\n",
    "    \"IN1301\":f\"for a patient in their 60s who has poor cytognetic risk AML underoing a matched unrelated donor transplant, using a RIC conditioning regimen with FK506 + methotrexate GHVD prophylaxis, what is the 100-day infection rate?\",\n",
    "}\n",
    "\n",
    "prompt_suffix = f\"The data retriever owns the data dictionary. Data file can be accessed: {docs_path}.\"\n",
    "\n",
    "study_prompt = test_prompt[study] + prompt_suffix"
   ]
  },
  {
   "cell_type": "markdown",
   "id": "2293f8b274eeb680",
   "metadata": {},
   "source": [
    "Autogen "
   ]
  },
  {
   "cell_type": "code",
   "execution_count": null,
   "id": "8acfc820e8a66c21",
   "metadata": {
    "jupyter": {
     "is_executing": true
    }
   },
   "outputs": [],
   "source": [
    "%env OPENAI_API_KEY=you_api_key"
   ]
  },
  {
   "cell_type": "code",
   "execution_count": null,
   "id": "981ef0542bc254d9",
   "metadata": {},
   "outputs": [],
   "source": [
    "import os\n",
    "import autogen\n",
    "from dotenv import load_dotenv\n",
    "from autogen.agentchat.contrib.gpt_assistant_agent import GPTAssistantAgent\n",
    "\n",
    "load_dotenv(override=True)\n",
    "api_key = os.getenv('OPENAI_API_KEY')\n",
    "config_list_gpt4 = [\n",
    "    {\n",
    "        \"model\": \"gpt-4o\",\n",
    "        # \"model\" : \"gpt-4-turbo\", \n",
    "        \"api_key\": api_key\n",
    "    }\n",
    "]\n",
    "\n",
    "llm_config = {\n",
    "    \"seed\": 116,  # change the seed for different trials\n",
    "    \"temperature\": 0,\n",
    "    \"config_list\": config_list_gpt4,\n",
    "    \"timeout\": 60,\n",
    "}"
   ]
  },
  {
   "cell_type": "code",
   "execution_count": null,
   "id": "738b068aaa31823f",
   "metadata": {},
   "outputs": [],
   "source": [
    "user_proxy = autogen.UserProxyAgent(\n",
    "   name=\"Admin\",\n",
    "   is_termination_msg=lambda msg: \"TERMINATE\" in msg[\"content\"],\n",
    "   system_message=\"A human admin. You execute code generated by data scientist\",\n",
    "   code_execution_config = {\"last_n_messages\": 2, \"work_dir\": \"CIBMTR\", \"use_docker\": False},\n",
    "   human_input_mode=\"ALWAYS\"\n",
    ")\n",
    "\n",
    "planner = autogen.AssistantAgent(\n",
    "    name=\"Planner\",\n",
    "    system_message='''Planner. You make a data analysis plan. You have deep knowledge in bone marrow transplant and cell therapy but you DO NOT write python codes or respond to code errors. You follows below rules:\n",
    "    1. After the user's request, you are the first to respond to make a data analysis plan.\n",
    "    2. Think of only the bare minimal variables for this analysis, e.g. do not request patient ID. Ignore confounders unless instructed specifically. E.g. for survival analysis, pt's demographic information and other confounders are not needed. \n",
    "    3. Think about all possible terms for a single variables, e.g. myeloablative regimen and MAC refer to the same variable\n",
    "    4. The first step of your plan is always to ask data retriever to retrieve only necessary variables needed for this analysis based on your plan\n",
    "    5. The plan involves a data scientist who can write python codes (the coder). No need for plotting unless asked by the Admin. \n",
    "    ''',\n",
    "    llm_config=llm_config,\n",
    ")\n",
    "\n",
    "data_retriever = GPTAssistantAgent(\n",
    "    name=\"data_retriever\",\n",
    "    llm_config=llm_config,\n",
    "    assistant_config={\n",
    "        \"assistant_id\": assistant_id[study],\n",
    "        \"tools\": [{\"type\": \"file_search\"}],\n",
    "        \"tool_resources\": {\"file_search\": {\"vector_store_ids\": assistant_id[study]}},\n",
    "    },\n",
    "    instructions= '''Data retriever. You have access to the data dictionary. You DO NOT write code or respond to code errors. Follow below rules:\n",
    "    1. You only respond to request asking you to retrieve data \n",
    "    2. Search top-down and retrieve all possibly related variables. Remember, retrieve the exact terms and keep capital letters. One or more variables may refer to the same entity. \n",
    "    3. If some requested variables are not available in the file, indicate that they are unavailable, and think about alternative variables.\n",
    "    4. Your output is ALWAYS a dictionary of variable, label, value number, and type. Use format: {\"Variable\":, \"label\":, \"value\":, \"type\":}. For example {\"Variable\":\"strata\", \"label\":\"RIC: Flu/Bu\", \"value\":\"4\", \"type\":\"Categorical\"}. \n",
    "    ''',\n",
    "    overwrite_instructions=True,\n",
    ")\n",
    "    \n",
    "data_cleaner = autogen.AssistantAgent(\n",
    "     name=\"data_cleaner\",\n",
    "     llm_config=llm_config,\n",
    "     system_message='''Data cleaner. Your role starts after data retriever. You work with data retriever to identify variables and their values/labels for further analysis. You only write Python code to display the data head of selected variables. Follow the following steps:\n",
    "     1. Inspect the variables obtained by data retriever: think if they are sufficient to solve the user's question\n",
    "     2. When you think more variables are needed, ask data retriever to obtain more variables. But DO NOT exceed TWO rounds\n",
    "     3. When you think all variables are obtained, make a list of all identified variables in the format {\"Variable\":, \"label\":, \"value\":, \"type\":}. For example: {\"Variable\":\"strata\", \"label\":\"RIC: Flu/Bu\", \"value\":\"4\", \"type\":\"Categorical\"}\n",
    "     4. Your then write Python codes to display the data head of ONLY selected variables.\n",
    "     5. If the display of data head is successful, your role ends and leave the chat, NEVER speak again. \n",
    "     6. If there is an error displaying the data head, suggest alternative terms, and ask data retriever to correct the variables. \n",
    "    ''',\n",
    " )\n",
    "\n",
    "data_scientist = autogen.AssistantAgent(\n",
    "    name=\"data_scientist\",\n",
    "    llm_config=llm_config,\n",
    "    system_message='''Data scientist. You are a coder; EVERY response that you generated should include Python code. You adjust code according to planner, reviewer, and code errors. Follow below rules: \n",
    "    1. Wrap the code in a code block that specifies the script type. The user can't modify your code. So do not suggest incomplete code which requires others to modify. Don't use a code block if it's not intended to be executed by the Admin.\n",
    "    2. Don't include multiple code blocks in one response. Do not ask others to copy and paste the result. \n",
    "    3. Check the execution result returned by the Admin. If the result indicates there is an error, fix the error and output the code again. Suggest the full code instead of partial code or code changes. \n",
    "    4. If the error can't be fixed or if the task is not solved even after the code is executed successfully, analyze the problem, revisit your assumption, collect additional info you need, and think of a different approach to try.\n",
    "    ''',\n",
    ")\n",
    "\n",
    "reviewer = autogen.AssistantAgent(\n",
    "    name=\"Reviewer\",\n",
    "    system_message='''Reviewer. You only respond right after A SUCCESSFUL EXECUTION BY data scientist (exitcode:0), with NO exception. Your role is to give feedback to data scientist. You DO NOT write python codes. See additional following rules:\n",
    "    1. Before your response, check if there is a proceeding successful execution of codes written by the data scientist. If not, you do not speak. \n",
    "    2. Review the user's question, again. Is the user's question addressed by the analysis? \n",
    "    3. For data presentation: Should confidence intervals and p-value be included in the results? Should a table be used to present the results? Are the results understandable to readers without a data dictionary? For cumulative incidence, does it start from 0? Are the results printed?\n",
    "    4. ONLY make a plot when specifically asked by Admin. For visualization, make sure the y-axis starts from 0. Make sure legends are appropriately labeled. In K-M curves, the risk table should be present (use add_at_risk_counts function); hazard ratio and p-value are labeled. \n",
    "    5. After your response, ask data scientist to improve the code. \n",
    "    Return TERMINATE if the task has been solved at full satisfaction AND code is successfully executed by Admin AND interpretation provided. \n",
    "    ''',\n",
    "    llm_config=llm_config,\n",
    ")\n",
    "groupchat = autogen.GroupChat(agents=[user_proxy, data_cleaner, data_retriever, data_scientist, planner, reviewer], messages=[], max_round=25)\n",
    "manager = autogen.GroupChatManager(groupchat=groupchat, llm_config=llm_config)\n",
    "\n",
    "\n",
    "user_proxy.initiate_chat(\n",
    "    manager,\n",
    "    message=study_prompt,\n",
    ")"
   ]
  }
 ],
 "metadata": {
  "kernelspec": {
   "display_name": "autogen_bmt_7_24",
   "language": "python",
   "name": "python3"
  },
  "language_info": {
   "codemirror_mode": {
    "name": "ipython",
    "version": 3
   },
   "file_extension": ".py",
   "mimetype": "text/x-python",
   "name": "python",
   "nbconvert_exporter": "python",
   "pygments_lexer": "ipython3",
   "version": "3.11.9"
  }
 },
 "nbformat": 4,
 "nbformat_minor": 5
}
